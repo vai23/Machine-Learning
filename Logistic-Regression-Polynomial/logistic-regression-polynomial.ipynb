{
 "cells": [
  {
   "cell_type": "code",
   "execution_count": 2,
   "metadata": {},
   "outputs": [],
   "source": [
    "# regularized logistic regression to predict whether microchips from a fabrication plant passes quality assurance (QA)\n",
    "import numpy as np\n",
    "import matplotlib.pyplot as plt\n",
    "import pandas as pd\n",
    "\n",
    "%matplotlib inline"
   ]
  },
  {
   "cell_type": "code",
   "execution_count": null,
   "metadata": {},
   "outputs": [],
   "source": [
    "class LogisticRegressionPolynomial:\n",
    "    \n",
    "    def __init__(self):\n",
    "        pass\n",
    "    \n",
    "    def __h(self, X, theta):\n",
    "        return\n",
    "    \n",
    "    def __normalize(self):\n",
    "        return\n",
    "    \n",
    "    def __cost(self):\n",
    "        return\n",
    "    \n",
    "    def train(self):\n",
    "        return\n",
    "    \n",
    "    def plot_data(self):\n",
    "        return"
   ]
  },
  {
   "cell_type": "code",
   "execution_count": 9,
   "metadata": {},
   "outputs": [],
   "source": [
    "data=pd.read_csv('data.csv')\n",
    "x=np.column_stack(( np.array(data['Microchip Test 1']), np.array(data['Microchip Test 2']) ))\n",
    "y=np.array(data['y'])"
   ]
  }
 ],
 "metadata": {
  "kernelspec": {
   "display_name": "Python 3",
   "language": "python",
   "name": "python3"
  },
  "language_info": {
   "codemirror_mode": {
    "name": "ipython",
    "version": 3
   },
   "file_extension": ".py",
   "mimetype": "text/x-python",
   "name": "python",
   "nbconvert_exporter": "python",
   "pygments_lexer": "ipython3",
   "version": "3.7.0"
  }
 },
 "nbformat": 4,
 "nbformat_minor": 2
}
