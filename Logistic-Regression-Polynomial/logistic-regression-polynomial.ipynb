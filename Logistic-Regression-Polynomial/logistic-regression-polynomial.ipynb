{
 "cells": [
  {
   "cell_type": "code",
   "execution_count": 1,
   "metadata": {},
   "outputs": [],
   "source": [
    "# regularized logistic regression to predict whether microchips from a fabrication plant passes quality assurance (QA)\n",
    "import numpy as np\n",
    "import matplotlib.pyplot as plt\n",
    "import pandas as pd\n",
    "\n",
    "%matplotlib inline"
   ]
  },
  {
   "cell_type": "code",
   "execution_count": 2,
   "metadata": {},
   "outputs": [],
   "source": [
    "class LogisticRegressionPolynomial:\n",
    "    \n",
    "    def __init__(self):\n",
    "        pass\n",
    "    \n",
    "    def __h(self, X, theta):\n",
    "        return 1/(1+np.exp(-X@theta))\n",
    "    \n",
    "    def __normalize(self, x):\n",
    "        _max=np.max(x, axis=0)\n",
    "        _min=np.min(x, axis=0)\n",
    "        rng=_max-_min\n",
    "        return (1-((_max-x)/rng))\n",
    "    \n",
    "    def __cost(self, X, y, theta, lamb):\n",
    "        h=self.__h(X,theta)\n",
    "        t1=y*np.log(h)\n",
    "        t2=(1-y)*np.log(1-h)\n",
    "        reg=lamb*(np.sum(theta**2)-theta[0][0]**2)/(2*X.shape[0])\n",
    "        cost=np.mean(-t1-t2)+reg\n",
    "        return cost\n",
    "    \n",
    "    def __gradient(self, X, y, theta, lamb):\n",
    "        h=self.__h(X,theta)\n",
    "        m=X.shape[0]\n",
    "        t=(h-y).T\n",
    "        t=t@X\n",
    "        grad=t+lamb*(np.sum(theta)-theta[0][0])\n",
    "        return grad.T\n",
    "    \n",
    "    def train(self,x ,y, stacked=False, lr=0.01, converge_change=0.00001, lamb=0.0):\n",
    "        x=self.__normalize(x)\n",
    "        if not stacked:\n",
    "            X=np.column_stack(( np.ones((x.shape[0],1), dtype=float), x ))\n",
    "        else:\n",
    "            X=x\n",
    "            \n",
    "        self.__x=x\n",
    "        self.__y=np.squeeze(y)\n",
    "        self.__Cost=[]\n",
    "        \n",
    "        y=y.reshape(y.shape[0],1)\n",
    "        iters=0\n",
    "        theta=np.zeros(( X.shape[1], 1 ))\n",
    "        old_cost=self.__cost(X,y,theta,1)\n",
    "        self.__Cost=[old_cost]\n",
    "        cost_change=1\n",
    "        \n",
    "        while cost_change>converge_change:\n",
    "            #print(self.__gradient(X,y,theta,lamb))\n",
    "            theta -= lr*self.__gradient(X,y,theta,lamb)\n",
    "            #print(theta)\n",
    "            new_cost=self.__cost(X,y,theta,lamb)\n",
    "            self.__Cost.append(new_cost)\n",
    "            cost_change=abs(old_cost-new_cost)\n",
    "            old_cost=new_cost\n",
    "            iters+=1\n",
    "            \n",
    "        self.__theta=theta\n",
    "        \n",
    "        return theta, iters\n",
    "    \n",
    "    def plot_cost(self):\n",
    "        plt.rcParams.update({'font.size': 15})\n",
    "        plt.rcParams.update({'figure.figsize': (10, 5)})\n",
    "        plt.plot(self.__Cost)\n",
    "        plt.xlabel('#iterations')\n",
    "        plt.ylabel('J(theta)')\n",
    "        return\n",
    "    \n",
    "    def predict(self, x, stacked=False):\n",
    "        x=self.__normalize(x)\n",
    "        if not stacked:\n",
    "            X=np.column_stack(( np.ones((x.shape[0],1), dtype=float), x ))\n",
    "        else:\n",
    "            X=x\n",
    "        prob=np.squeeze(self.__h(X, self.__theta))\n",
    "        self.pred_y=np.squeeze(np.where(prob>=0.5,1,0))\n",
    "        return self.pred_y\n",
    "    \n",
    "    def accuracy(self):\n",
    "        return np.sum(self.__y == self.pred_y)"
   ]
  },
  {
   "cell_type": "code",
   "execution_count": 3,
   "metadata": {},
   "outputs": [],
   "source": [
    "data=pd.read_csv('data.csv')\n",
    "x1=np.array(data['Microchip Test 1'], dtype=float)\n",
    "x2=np.array(data['Microchip Test 2'], dtype=float)\n",
    "x=np.column_stack((  x1, x2, x1**2, x2**2, x1*x2 ))\n",
    "y=np.array(data['y'], dtype=float).reshape(x.shape[0],1)"
   ]
  },
  {
   "cell_type": "code",
   "execution_count": 4,
   "metadata": {},
   "outputs": [
    {
     "name": "stdout",
     "output_type": "stream",
     "text": [
      "theta= [  2.4220843    4.60718963   5.9689783  -11.11467657 -11.43113007\n",
      "  -5.89123674]\n",
      "Number of iterations= 1615\n"
     ]
    }
   ],
   "source": [
    "model=LogisticRegressionPolynomial()\n",
    "theta, iters=model.train(x,y,lamb=0,converge_change=0.00001)\n",
    "print('theta=', np.squeeze(theta))\n",
    "print('Number of iterations=', iters)"
   ]
  },
  {
   "cell_type": "code",
   "execution_count": 5,
   "metadata": {
    "scrolled": true
   },
   "outputs": [
    {
     "data": {
      "image/png": "[encoded data removed]",
      "text/plain": [
       "<Figure size 720x360 with 1 Axes>"
      ]
     },
     "metadata": {
      "needs_background": "light"
     },
     "output_type": "display_data"
    }
   ],
   "source": [
    "model.plot_cost()"
   ]
  },
  {
   "cell_type": "code",
   "execution_count": 6,
   "metadata": {},
   "outputs": [
    {
     "name": "stdout",
     "output_type": "stream",
     "text": [
      "Predicted Values= [1 1 1 1 1 1 1 1 1 1 1 1 1 1 1 1 1 1 1 1 0 1 0 0 1 0 1 0 1 1 0 1 1 1 1 1 1\n",
      " 1 1 1 1 1 1 1 1 1 0 1 0 1 1 1 1 1 1 1 1 1 0 1 1 0 0 0 0 0 0 0 0 0 0 0 0 0\n",
      " 0 0 1 1 0 0 0 1 0 0 0 0 0 0 1 0 0 0 1 0 0 0 0 0 0 0 0 0 0 0 1 0 0 1 0 0 0\n",
      " 0 0 0 1 0 0 1]\n",
      "Accuracy of the model= 99 %\n"
     ]
    }
   ],
   "source": [
    "py=model.predict(x)\n",
    "print('Predicted Values=',py)\n",
    "print('Accuracy of the model=',model.accuracy(),'%')"
   ]
  }
 ],
 "metadata": {
  "kernelspec": {
   "display_name": "Python 3",
   "language": "python",
   "name": "python3"
  },
  "language_info": {
   "codemirror_mode": {
    "name": "ipython",
    "version": 3
   },
   "file_extension": ".py",
   "mimetype": "text/x-python",
   "name": "python",
   "nbconvert_exporter": "python",
   "pygments_lexer": "ipython3",
   "version": "3.7.0"
  }
 },
 "nbformat": 4,
 "nbformat_minor": 2
}
